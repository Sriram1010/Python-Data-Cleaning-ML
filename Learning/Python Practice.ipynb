{
 "cells": [
  {
   "cell_type": "markdown",
   "metadata": {},
   "source": [
    "#  Python Tutorial"
   ]
  },
  {
   "cell_type": "markdown",
   "metadata": {},
   "source": [
    "My first program in Python: Just started Here"
   ]
  },
  {
   "cell_type": "code",
   "execution_count": 1,
   "metadata": {},
   "outputs": [
    {
     "name": "stdout",
     "output_type": "stream",
     "text": [
      "Hello World\n"
     ]
    }
   ],
   "source": [
    "print(\"Hello World\")"
   ]
  },
  {
   "cell_type": "markdown",
   "metadata": {},
   "source": [
    "# Variables "
   ]
  },
  {
   "cell_type": "code",
   "execution_count": 2,
   "metadata": {},
   "outputs": [
    {
     "name": "stdout",
     "output_type": "stream",
     "text": [
      "20.5\n"
     ]
    }
   ],
   "source": [
    "x,y,z=20.5,10, '70.5'\n",
    "print(x)"
   ]
  },
  {
   "cell_type": "code",
   "execution_count": 3,
   "metadata": {},
   "outputs": [
    {
     "name": "stdout",
     "output_type": "stream",
     "text": [
      "Variable   Type     Data/Info\n",
      "-----------------------------\n",
      "x          float    20.5\n",
      "y          int      10\n",
      "z          str      70.5\n"
     ]
    }
   ],
   "source": [
    "%whos"
   ]
  },
  {
   "cell_type": "code",
   "execution_count": 4,
   "metadata": {},
   "outputs": [],
   "source": [
    "x=20"
   ]
  },
  {
   "cell_type": "code",
   "execution_count": 5,
   "metadata": {},
   "outputs": [],
   "source": [
    "del x,z"
   ]
  },
  {
   "cell_type": "code",
   "execution_count": 6,
   "metadata": {},
   "outputs": [],
   "source": [
    "c=2+4j"
   ]
  },
  {
   "cell_type": "code",
   "execution_count": 7,
   "metadata": {},
   "outputs": [
    {
     "name": "stdout",
     "output_type": "stream",
     "text": [
      "<class 'complex'>\n"
     ]
    }
   ],
   "source": [
    "print(type(c))"
   ]
  },
  {
   "cell_type": "code",
   "execution_count": 47,
   "metadata": {},
   "outputs": [],
   "source": [
    "a=2+4.5"
   ]
  },
  {
   "cell_type": "code",
   "execution_count": 48,
   "metadata": {},
   "outputs": [
    {
     "name": "stdout",
     "output_type": "stream",
     "text": [
      "6.5\n",
      "<class 'float'>\n"
     ]
    }
   ],
   "source": [
    "print(a)\n",
    "print(type(a))"
   ]
  },
  {
   "cell_type": "code",
   "execution_count": 55,
   "metadata": {},
   "outputs": [
    {
     "name": "stdout",
     "output_type": "stream",
     "text": [
      "sriram\n"
     ]
    }
   ],
   "source": [
    "a,b='sri','ram'\n",
    "print(a + b)"
   ]
  },
  {
   "cell_type": "markdown",
   "metadata": {},
   "source": [
    "# Operators"
   ]
  },
  {
   "cell_type": "markdown",
   "metadata": {},
   "source": [
    "#   + ,-,* , /->quotient , % -> reminder, // floor division, ** power"
   ]
  },
  {
   "cell_type": "markdown",
   "metadata": {},
   "source": [
    "# Boolean Operators"
   ]
  },
  {
   "cell_type": "code",
   "execution_count": 8,
   "metadata": {},
   "outputs": [
    {
     "name": "stdout",
     "output_type": "stream",
     "text": [
      "True\n",
      "False\n",
      "False\n",
      "True\n"
     ]
    },
    {
     "data": {
      "text/plain": [
       "False"
      ]
     },
     "execution_count": 8,
     "metadata": {},
     "output_type": "execute_result"
    }
   ],
   "source": [
    "a, b,c = True , True, False\n",
    "d=a or c\n",
    "print((a and b))\n",
    "print((a and c))\n",
    "print((a and c))\n",
    "print(d)\n",
    "not((a and b) or (c and d))"
   ]
  },
  {
   "cell_type": "markdown",
   "metadata": {},
   "source": [
    "# Comparison"
   ]
  },
  {
   "cell_type": "code",
   "execution_count": 1,
   "metadata": {},
   "outputs": [
    {
     "name": "stdout",
     "output_type": "stream",
     "text": [
      "True\n"
     ]
    }
   ],
   "source": [
    "c=(2<3)\n",
    "type(c)\n",
    "print(c)\n"
   ]
  },
  {
   "cell_type": "code",
   "execution_count": 2,
   "metadata": {},
   "outputs": [],
   "source": [
    "x=10\n",
    "y=9\n",
    "z=7.1\n",
    "s=-2\n"
   ]
  },
  {
   "cell_type": "code",
   "execution_count": 3,
   "metadata": {},
   "outputs": [
    {
     "data": {
      "text/plain": [
       "True"
      ]
     },
     "execution_count": 3,
     "metadata": {},
     "output_type": "execute_result"
    }
   ],
   "source": [
    "not((x>z) and (y<s) or (x==y) and ((y>s)or(z<s)))"
   ]
  },
  {
   "cell_type": "code",
   "execution_count": 104,
   "metadata": {},
   "outputs": [
    {
     "data": {
      "text/plain": [
       "True"
      ]
     },
     "execution_count": 104,
     "metadata": {},
     "output_type": "execute_result"
    }
   ],
   "source": [
    "True or False and True \n"
   ]
  },
  {
   "cell_type": "code",
   "execution_count": 105,
   "metadata": {},
   "outputs": [
    {
     "data": {
      "text/plain": [
       "True"
      ]
     },
     "execution_count": 105,
     "metadata": {},
     "output_type": "execute_result"
    }
   ],
   "source": [
    "False and False or True "
   ]
  },
  {
   "cell_type": "code",
   "execution_count": 106,
   "metadata": {},
   "outputs": [
    {
     "data": {
      "text/plain": [
       "False"
      ]
     },
     "execution_count": 106,
     "metadata": {},
     "output_type": "execute_result"
    }
   ],
   "source": [
    "((not(2!=3)and True) or (False and True))"
   ]
  },
  {
   "cell_type": "markdown",
   "metadata": {},
   "source": [
    "# Functions"
   ]
  },
  {
   "cell_type": "code",
   "execution_count": 9,
   "metadata": {},
   "outputs": [
    {
     "data": {
      "text/plain": [
       "2.651"
      ]
     },
     "execution_count": 9,
     "metadata": {},
     "output_type": "execute_result"
    }
   ],
   "source": [
    "round(2.6514848,3)"
   ]
  },
  {
   "cell_type": "code",
   "execution_count": 10,
   "metadata": {},
   "outputs": [
    {
     "data": {
      "text/plain": [
       "2"
      ]
     },
     "execution_count": 10,
     "metadata": {},
     "output_type": "execute_result"
    }
   ],
   "source": [
    "round(2.4556)"
   ]
  },
  {
   "cell_type": "code",
   "execution_count": 3,
   "metadata": {},
   "outputs": [
    {
     "name": "stdout",
     "output_type": "stream",
     "text": [
      "(3, 1)\n"
     ]
    }
   ],
   "source": [
    "v=divmod(10,3)\n",
    "print(v)"
   ]
  },
  {
   "cell_type": "code",
   "execution_count": 117,
   "metadata": {},
   "outputs": [
    {
     "data": {
      "text/plain": [
       "tuple"
      ]
     },
     "execution_count": 117,
     "metadata": {},
     "output_type": "execute_result"
    }
   ],
   "source": [
    " type(v)"
   ]
  },
  {
   "cell_type": "code",
   "execution_count": 17,
   "metadata": {},
   "outputs": [
    {
     "data": {
      "text/plain": [
       "False"
      ]
     },
     "execution_count": 17,
     "metadata": {},
     "output_type": "execute_result"
    }
   ],
   "source": [
    "isinstance(4,int)\n",
    "isinstance(4,float)"
   ]
  },
  {
   "cell_type": "code",
   "execution_count": 128,
   "metadata": {},
   "outputs": [
    {
     "data": {
      "text/plain": [
       "True"
      ]
     },
     "execution_count": 128,
     "metadata": {},
     "output_type": "execute_result"
    }
   ],
   "source": [
    "isinstance(2+3j,(float,int,str,complex))"
   ]
  },
  {
   "cell_type": "code",
   "execution_count": 129,
   "metadata": {},
   "outputs": [
    {
     "data": {
      "text/plain": [
       "True"
      ]
     },
     "execution_count": 129,
     "metadata": {},
     "output_type": "execute_result"
    }
   ],
   "source": [
    "isinstance('sri',(float,int,str))"
   ]
  },
  {
   "cell_type": "code",
   "execution_count": 18,
   "metadata": {},
   "outputs": [
    {
     "data": {
      "text/plain": [
       "16"
      ]
     },
     "execution_count": 18,
     "metadata": {},
     "output_type": "execute_result"
    }
   ],
   "source": [
    "pow(2,4)"
   ]
  },
  {
   "cell_type": "code",
   "execution_count": 20,
   "metadata": {},
   "outputs": [
    {
     "data": {
      "text/plain": [
       "16"
      ]
     },
     "execution_count": 20,
     "metadata": {},
     "output_type": "execute_result"
    }
   ],
   "source": [
    "2**4"
   ]
  },
  {
   "cell_type": "code",
   "execution_count": 132,
   "metadata": {},
   "outputs": [
    {
     "data": {
      "text/plain": [
       "2"
      ]
     },
     "execution_count": 132,
     "metadata": {},
     "output_type": "execute_result"
    }
   ],
   "source": [
    "pow(2,4,7)"
   ]
  },
  {
   "cell_type": "code",
   "execution_count": 23,
   "metadata": {},
   "outputs": [
    {
     "name": "stdout",
     "output_type": "stream",
     "text": [
      "Enter a Number20\n"
     ]
    }
   ],
   "source": [
    "q=input(\"Enter a Number\")"
   ]
  },
  {
   "cell_type": "code",
   "execution_count": 24,
   "metadata": {},
   "outputs": [
    {
     "name": "stdout",
     "output_type": "stream",
     "text": [
      "20\n"
     ]
    }
   ],
   "source": [
    "print(q)"
   ]
  },
  {
   "cell_type": "code",
   "execution_count": 25,
   "metadata": {},
   "outputs": [
    {
     "data": {
      "text/plain": [
       "str"
      ]
     },
     "execution_count": 25,
     "metadata": {},
     "output_type": "execute_result"
    }
   ],
   "source": [
    "type(q)"
   ]
  },
  {
   "cell_type": "code",
   "execution_count": 26,
   "metadata": {},
   "outputs": [
    {
     "name": "stdout",
     "output_type": "stream",
     "text": [
      "20\n"
     ]
    },
    {
     "data": {
      "text/plain": [
       "int"
      ]
     },
     "execution_count": 26,
     "metadata": {},
     "output_type": "execute_result"
    }
   ],
   "source": [
    "q=int(q)\n",
    "print(q)\n",
    "type(q)"
   ]
  },
  {
   "cell_type": "code",
   "execution_count": 141,
   "metadata": {},
   "outputs": [
    {
     "name": "stdout",
     "output_type": "stream",
     "text": [
      "Enter a number12.5\n"
     ]
    }
   ],
   "source": [
    "q=float(input(\"Enter a number\"))"
   ]
  },
  {
   "cell_type": "code",
   "execution_count": 143,
   "metadata": {},
   "outputs": [
    {
     "name": "stdout",
     "output_type": "stream",
     "text": [
      "12.5\n"
     ]
    },
    {
     "data": {
      "text/plain": [
       "float"
      ]
     },
     "execution_count": 143,
     "metadata": {},
     "output_type": "execute_result"
    }
   ],
   "source": [
    "print(q)\n",
    "type(q)"
   ]
  },
  {
   "cell_type": "code",
   "execution_count": 4,
   "metadata": {},
   "outputs": [],
   "source": [
    "isinstance?"
   ]
  },
  {
   "cell_type": "markdown",
   "metadata": {},
   "source": [
    "# Control flow"
   ]
  },
  {
   "cell_type": "markdown",
   "metadata": {},
   "source": [
    "# IF statement"
   ]
  },
  {
   "cell_type": "code",
   "execution_count": 28,
   "metadata": {},
   "outputs": [
    {
     "name": "stdout",
     "output_type": "stream",
     "text": [
      "Enter Value A = 10\n",
      "Enter Value B = 20\n",
      "The biggest Number is B =  20\n",
      "End\n"
     ]
    }
   ],
   "source": [
    "a=int(input(\"Enter Value A = \"))\n",
    "b=int(input(\"Enter Value B = \"))\n",
    "if a>b:\n",
    "    print(\"The biggest Number is A = \" , str(a))\n",
    "if b>a:\n",
    "    print(\"The biggest Number is B = \" , str(b))\n",
    "print(\"End\")\n",
    "\n"
   ]
  },
  {
   "cell_type": "code",
   "execution_count": 29,
   "metadata": {},
   "outputs": [
    {
     "name": "stdout",
     "output_type": "stream",
     "text": [
      "Enter Value A = 5\n",
      "Enter Value B = -5\n",
      "The biggest Number is A = 5\n",
      "End\n"
     ]
    }
   ],
   "source": [
    "a=int(input(\"Enter Value A = \"))\n",
    "b=int(input(\"Enter Value B = \"))\n",
    "if a>b:\n",
    "    print(\"The biggest Number is A = \" + str(a))\n",
    "else:\n",
    "    print(\"The biggest Number is B = \" + str(b))\n",
    "print(\"End\")\n",
    "\n"
   ]
  },
  {
   "cell_type": "markdown",
   "metadata": {},
   "source": [
    "# Elif statement"
   ]
  },
  {
   "cell_type": "code",
   "execution_count": 5,
   "metadata": {},
   "outputs": [
    {
     "name": "stdout",
     "output_type": "stream",
     "text": [
      "Enter Value A = 10\n",
      "Enter Value B = 10\n",
      "The Numbers are equal  A =  10   B =  10\n",
      "End\n"
     ]
    }
   ],
   "source": [
    "a=int(input(\"Enter Value A = \"))\n",
    "b=int(input(\"Enter Value B = \"))\n",
    "if a>b:\n",
    "    print(\"The biggest Number is A = \" + str(a))\n",
    "elif a == b:\n",
    "    print(\"The Numbers are equal \" , \"A = \", str(a) , ' ' ,\"B = \" , str(b))\n",
    "else:\n",
    "    print(\"The biggest Number is B = \" + str(b))\n",
    "print(\"End\")\n",
    "\n"
   ]
  },
  {
   "cell_type": "code",
   "execution_count": 5,
   "metadata": {},
   "outputs": [
    {
     "name": "stdout",
     "output_type": "stream",
     "text": [
      "Enter Student Mark = 35\n",
      "Below Average\n"
     ]
    }
   ],
   "source": [
    "a=int(input(\"Enter Student Mark = \"))\n",
    "\n",
    "if a>90:\n",
    "    print(\"A+ Grade\")\n",
    "elif (a < 90) and (a >= 85):\n",
    "    print(\"A Grade\")\n",
    "elif (a < 85) and (a >= 80):\n",
    "    print(\"A- Grade\")\n",
    "elif (a < 80) and (a >= 75):\n",
    "    print(\"B+ Grade\")\n",
    "elif (a < 75) and (a >= 70):\n",
    "    print(\"B Grade\")\n",
    "elif (a < 70) and (a >= 65):\n",
    "    print(\"B- Grade\")\n",
    "elif (a < 65) and (a >= 60):\n",
    "    print(\"C+ Grade\")\n",
    "elif (a < 60) and (a >= 55):\n",
    "    print(\"C Grade\")\n",
    "elif a<35:\n",
    "    print(\"Failed\")\n",
    "else:\n",
    "    print(\"Below Average\")\n",
    "\n"
   ]
  },
  {
   "cell_type": "markdown",
   "metadata": {},
   "source": [
    "# Eliminating Else Statement"
   ]
  },
  {
   "cell_type": "code",
   "execution_count": 7,
   "metadata": {},
   "outputs": [
    {
     "name": "stdout",
     "output_type": "stream",
     "text": [
      "Enter Value A = 10\n",
      "Enter Value B = 50\n",
      "The biggest Number is B =  50\n"
     ]
    }
   ],
   "source": [
    "a=int(input(\"Enter Value A = \"))\n",
    "b=int(input(\"Enter Value B = \"))\n",
    "if a>b:\n",
    "    print(\"The biggest Number is A = \" , str(a))\n",
    "elif not(a > b):\n",
    "    print(\"The biggest Number is B = \" , str(b))\n"
   ]
  },
  {
   "cell_type": "markdown",
   "metadata": {},
   "source": [
    "# Nested IF statement"
   ]
  },
  {
   "cell_type": "code",
   "execution_count": 48,
   "metadata": {},
   "outputs": [
    {
     "name": "stdout",
     "output_type": "stream",
     "text": [
      "Enter Value A = 22\n",
      "The Number is bigger then 10 =  22\n",
      "Also the Number is bigger then 20 = 22\n",
      "End\n"
     ]
    }
   ],
   "source": [
    "a=int(input(\"Enter Value A = \"))\n",
    "if a>10:\n",
    "    print(\"The Number is bigger then 10 = \" , str(a))\n",
    "    if(a > 20):\n",
    "        print(\"Also the Number is bigger then 20 = \" + str(a))\n",
    "    elif not(a > 20):\n",
    "        print(\"Also the Number is not bigger then 20 = \"+ str(a))\n",
    "print(\"End\")\n"
   ]
  },
  {
   "cell_type": "markdown",
   "metadata": {},
   "source": [
    "# single line comment\n",
    "\"\"\" Multi line comment\n",
    "use three \" at the start and begining \"\"\" "
   ]
  },
  {
   "cell_type": "code",
   "execution_count": 11,
   "metadata": {
    "scrolled": true
   },
   "outputs": [
    {
     "name": "stdout",
     "output_type": "stream",
     "text": [
      "Enter a float number = -17.9\n",
      "-17\n",
      "Odd Number\n"
     ]
    }
   ],
   "source": [
    "\"\"\" User will give youa input float of 238.915. your task is to find out integer portion\n",
    "before the point (in this case 238) and the check if that ineger portion is an even number or not? \"\"\"\n",
    "a = float(input(\"Enter a float number = \"))\n",
    "b=round(a) \n",
    "if a>0:\n",
    "    if b>a:\n",
    "        intportion =b-1\n",
    "    else:\n",
    "        intportion =b\n",
    "else:\n",
    "    if b<a:\n",
    "        intportion =b+1\n",
    "    else:\n",
    "        intportion = b\n",
    "print(intportion)\n",
    "if intportion%2 == 0:\n",
    "    print(\"Even Number\")\n",
    "else:\n",
    "    print(\"Odd Number\")"
   ]
  },
  {
   "cell_type": "code",
   "execution_count": 18,
   "metadata": {},
   "outputs": [
    {
     "name": "stdout",
     "output_type": "stream",
     "text": [
      "Max Iteration : 5\n",
      "1\n",
      "2\n",
      "3\n",
      "4\n",
      "5\n",
      "Done\n"
     ]
    }
   ],
   "source": [
    "n= int(input(\"Max Iteration : \"))\n",
    "i=1\n",
    "while i<=n:\n",
    "    print(i)\n",
    "    i+=1 # eqivalent of i=i+1\n",
    "print(\"Done\")"
   ]
  },
  {
   "cell_type": "markdown",
   "metadata": {},
   "source": [
    "# While with if else Loop "
   ]
  },
  {
   "cell_type": "code",
   "execution_count": 22,
   "metadata": {},
   "outputs": [
    {
     "name": "stdout",
     "output_type": "stream",
     "text": [
      "Max Iteration : 5\n",
      "Passed\n",
      "2\n",
      "Passed\n",
      "4\n",
      "Passed\n",
      "Done\n"
     ]
    }
   ],
   "source": [
    "n= int(input(\"Max Iteration : \"))\n",
    "i=1\n",
    "while i<=n:\n",
    "    if i%2 == 0:\n",
    "        print(i)\n",
    "    else:\n",
    "        pass #skip to next step\n",
    "        print(\"Passed\")\n",
    "    i+=1 # eqivalent of i=i+1\n",
    "print(\"Done\")"
   ]
  },
  {
   "cell_type": "markdown",
   "metadata": {},
   "source": [
    "#  BREAK Statement\n",
    "While true: is a infinite loop which loops automatically untill condition reach break"
   ]
  },
  {
   "cell_type": "code",
   "execution_count": 23,
   "metadata": {},
   "outputs": [
    {
     "name": "stdout",
     "output_type": "stream",
     "text": [
      "Inside Else\n",
      "Inside Else\n",
      "Inside Else\n",
      "Inside Else\n",
      "Inside Else\n",
      "Inside Else\n",
      "Inside Else\n",
      "Inside Else\n",
      "Inside Else\n",
      "Inside if\n",
      "Done\n"
     ]
    }
   ],
   "source": [
    "i=1\n",
    "while True: #infinite loop starts automatically\n",
    "    if i%10 == 0:\n",
    "        print(\"Inside if\")\n",
    "        break\n",
    "    else:\n",
    "        print(\"Inside Else\")\n",
    "    i+=1\n",
    "print(\"Done\")"
   ]
  },
  {
   "cell_type": "markdown",
   "metadata": {},
   "source": [
    "# Continue statement "
   ]
  },
  {
   "cell_type": "code",
   "execution_count": 10,
   "metadata": {},
   "outputs": [
    {
     "name": "stdout",
     "output_type": "stream",
     "text": [
      "Inside if I = 1\n",
      "Inside if I = 2\n",
      "Inside if I = 3\n",
      "Inside if I = 4\n",
      "Inside if I = 5\n",
      "Inside if I = 6\n",
      "Inside if I = 7\n",
      "Inside if I = 8\n",
      "Bit Confusing\n",
      "Confusing\n",
      "Done\n"
     ]
    }
   ],
   "source": [
    "i=1\n",
    "while True:\n",
    "    if i%9 != 0:\n",
    "        print(\"Inside if I =\",i)\n",
    "        i+=1\n",
    "        continue #jump to first step of the loop\n",
    "    print(\"Bit Confusing\")\n",
    "    print(\"Confusing\")\n",
    "    break\n",
    "        \n",
    "print(\"Done\")"
   ]
  },
  {
   "cell_type": "markdown",
   "metadata": {},
   "source": [
    "# For Loop"
   ]
  },
  {
   "cell_type": "code",
   "execution_count": 2,
   "metadata": {},
   "outputs": [
    {
     "name": "stdout",
     "output_type": "stream",
     "text": [
      "0\n",
      "1\n",
      "2\n",
      "3\n",
      "4\n",
      "5\n",
      "6\n",
      "7\n",
      "8\n",
      "9\n",
      "[0, 1, 4, 9, 16, 25, 36, 49, 64, 81]\n"
     ]
    }
   ],
   "source": [
    "L=[]\n",
    "for i in range(10):\n",
    "    print(i)\n",
    "    L.append(i**2)\n",
    "print(L)"
   ]
  },
  {
   "cell_type": "code",
   "execution_count": 77,
   "metadata": {},
   "outputs": [
    {
     "name": "stdout",
     "output_type": "stream",
     "text": [
      "with Range (i) returns element position\n",
      "0\n",
      "1\n",
      "2\n",
      "3\n",
      "4\n",
      "[25, 4, 36, 49, 81]\n",
      "without Range (i) returns element itself\n",
      "5\n",
      "2\n",
      "6\n",
      "7\n",
      "9\n",
      "[25, 4, 36, 49, 81]\n"
     ]
    }
   ],
   "source": [
    "\"\"\"In For loop when u use range declare length(len) of list,set etc then (i) will return element position in the list.\n",
    "If range is not used it will return element itself\"\"\"\n",
    "print(\"with Range (i) returns element position\") \n",
    "L = [5,2,6,7,9]\n",
    "m= []\n",
    "for i in range (len(L)):\n",
    "    print(i)\n",
    "    m.append(L[i]**2)\n",
    "print(m)\n",
    "\n",
    "print(\"without Range (i) returns element itself\") \n",
    "R = [5,2,6,7,9]\n",
    "s= []\n",
    "for i in R:\n",
    "    print(i)\n",
    "    s.append(i**2)\n",
    "print(s)"
   ]
  },
  {
   "cell_type": "markdown",
   "metadata": {},
   "source": [
    "# Else in For Loop"
   ]
  },
  {
   "cell_type": "code",
   "execution_count": 26,
   "metadata": {},
   "outputs": [
    {
     "name": "stdout",
     "output_type": "stream",
     "text": [
      "Ram\n",
      "sri\n",
      "End\n"
     ]
    }
   ],
   "source": [
    "s = {\"sri\",5.9,100,\"Ram\"}\n",
    "i=0\n",
    "for x in s:\n",
    "    print(x)\n",
    "    i+=1\n",
    "    if i == 2:\n",
    "        break\n",
    "    else:\n",
    "        pass\n",
    "else:\n",
    "    print(\"Loop sucess and printed all\")\n",
    "print(\"End\")"
   ]
  },
  {
   "cell_type": "markdown",
   "metadata": {},
   "source": [
    "# Dictoniary and For Loop\n",
    "While printing dictionary values use arrayD[i] for values"
   ]
  },
  {
   "cell_type": "code",
   "execution_count": 34,
   "metadata": {
    "scrolled": true
   },
   "outputs": [
    {
     "name": "stdout",
     "output_type": "stream",
     "text": [
      "Day [1, 2, 3, 4, 5]\n",
      "Visitors [100, 200, 500, 300, 50]\n"
     ]
    }
   ],
   "source": [
    "D = {'Day':[1,2,3,4,5],\"Visitors\":[100,200,500,300,50]}\n",
    "for x in D:\n",
    "    print(x,D[x])"
   ]
  },
  {
   "cell_type": "markdown",
   "metadata": {},
   "source": [
    "# Sorting Algorithm"
   ]
  },
  {
   "cell_type": "code",
   "execution_count": 27,
   "metadata": {},
   "outputs": [
    {
     "name": "stdout",
     "output_type": "stream",
     "text": [
      "1\n",
      "5\n",
      "20\n",
      "-1\n",
      "3\n",
      "6\n",
      "5\n",
      "-5\n",
      "-10\n",
      "5\n",
      "20\n",
      "-1\n",
      "3\n",
      "6\n",
      "5\n",
      "-5\n",
      "1\n",
      "20\n",
      "-1\n",
      "3\n",
      "6\n",
      "5\n",
      "5\n",
      "1\n",
      "20\n",
      "3\n",
      "6\n",
      "5\n",
      "5\n",
      "1\n",
      "3\n",
      "6\n",
      "5\n",
      "5\n",
      "20\n",
      "6\n",
      "5\n",
      "5\n",
      "20\n",
      "6\n",
      "5\n",
      "20\n",
      "6\n",
      "20\n",
      "20\n",
      "Small Number =  20 Index Position =  8\n",
      "[-10, -5, -1, 1, 3, 5, 5, 6, 20]\n"
     ]
    }
   ],
   "source": [
    "\"\"\" Input a ist with random values, your task is to sort them and store in another list in ascending order\"\"\"\n",
    "L = [1,5,20,-1,3,6,5,-5,-10] \n",
    "for j in range(len(L)):\n",
    "    m=L[j]\n",
    "    k = j\n",
    "    c = j\n",
    "    for i in range(j,len(L)):\n",
    "        print(L[i])\n",
    "        if L[i]<m:\n",
    "            m = L[i]\n",
    "            k = c\n",
    "        c+=1\n",
    "    tmp = L[j]\n",
    "    L[j] = m\n",
    "    L[k] = tmp\n",
    "    \n",
    "print(\"Small Number = \",m,\"Index Position = \",k)\n",
    "\n",
    "print(L)"
   ]
  },
  {
   "cell_type": "markdown",
   "metadata": {},
   "source": [
    "# Functions"
   ]
  },
  {
   "cell_type": "code",
   "execution_count": 28,
   "metadata": {},
   "outputs": [],
   "source": [
    "def printSucess():\n",
    "    print(\"done with the task\")\n",
    "    print(\"Send me next task\")"
   ]
  },
  {
   "cell_type": "code",
   "execution_count": 29,
   "metadata": {},
   "outputs": [
    {
     "name": "stdout",
     "output_type": "stream",
     "text": [
      "done with the task\n",
      "Send me next task\n"
     ]
    }
   ],
   "source": [
    "printSucess()"
   ]
  },
  {
   "cell_type": "markdown",
   "metadata": {},
   "source": [
    "# Doc String in Functions"
   ]
  },
  {
   "cell_type": "code",
   "execution_count": 30,
   "metadata": {},
   "outputs": [],
   "source": [
    "def printSucess():\n",
    "    \"\"\" This is a sample statement to check the working of Docstring in functions\"\"\"\n",
    "    print(\"done with the task\")\n",
    "    print(\"Send me next task\")"
   ]
  },
  {
   "cell_type": "code",
   "execution_count": 31,
   "metadata": {},
   "outputs": [],
   "source": [
    "printSucess??"
   ]
  },
  {
   "cell_type": "markdown",
   "metadata": {},
   "source": [
    "# Functions with argumenat"
   ]
  },
  {
   "cell_type": "code",
   "execution_count": 22,
   "metadata": {},
   "outputs": [],
   "source": [
    "def ArgFunc(msg):\n",
    "    \"\"\" This function gets input from the user and print the message if it is a string, if not it will report an error MSG\"\"\" \n",
    "    if isinstance(msg,(str,int)):\n",
    "        print(\"The Given message is \",msg)\n",
    "    else:\n",
    "        print(\"Given Message is Invalid\")\n",
    "        print(\"Input message type\",type(msg))"
   ]
  },
  {
   "cell_type": "code",
   "execution_count": 23,
   "metadata": {},
   "outputs": [
    {
     "name": "stdout",
     "output_type": "stream",
     "text": [
      "Given Message is Invalid\n",
      "Input message type <class 'float'>\n"
     ]
    }
   ],
   "source": [
    "ArgFunc(10.5)"
   ]
  },
  {
   "cell_type": "code",
   "execution_count": 32,
   "metadata": {},
   "outputs": [],
   "source": [
    "def mutiArg(a,b):\n",
    "    \"\"\"This functions returns the power value of given numbers\"\"\"\n",
    "    d=pow(a,b)\n",
    "    print(\"The power value of given numbers = \",d)"
   ]
  },
  {
   "cell_type": "code",
   "execution_count": 33,
   "metadata": {},
   "outputs": [
    {
     "name": "stdout",
     "output_type": "stream",
     "text": [
      "The power value of given numbers =  32\n"
     ]
    }
   ],
   "source": [
    "mutiArg(2,5) "
   ]
  },
  {
   "cell_type": "code",
   "execution_count": 34,
   "metadata": {},
   "outputs": [],
   "source": [
    "mutiArg??"
   ]
  },
  {
   "cell_type": "markdown",
   "metadata": {},
   "source": [
    "# Order of Arguments\n",
    "order doese not matters as long as you pass data with argumnet name"
   ]
  },
  {
   "cell_type": "code",
   "execution_count": 35,
   "metadata": {},
   "outputs": [],
   "source": [
    "def orderArg(a,b,c):\n",
    "    print (\"A Value is : \", a)\n",
    "    print (\"B Value is : \", b)\n",
    "    print (\"C Value is : \", c)\n",
    "    sri =c\n"
   ]
  },
  {
   "cell_type": "code",
   "execution_count": 36,
   "metadata": {},
   "outputs": [
    {
     "name": "stdout",
     "output_type": "stream",
     "text": [
      "A Value is :  1\n",
      "B Value is :  2\n",
      "C Value is :  3\n"
     ]
    }
   ],
   "source": [
    "orderArg(c=3,a=1,b=2)"
   ]
  },
  {
   "cell_type": "markdown",
   "metadata": {},
   "source": [
    "# Return statement  in Function"
   ]
  },
  {
   "cell_type": "code",
   "execution_count": 37,
   "metadata": {},
   "outputs": [],
   "source": [
    "def chk():\n",
    "    x= 10\n",
    "    y= 5\n",
    "    z=x+y\n",
    "    print(\"The sum = \",z)\n",
    "    return #if return varible is not provided the function body stops working from here\n",
    "    print(\"Function stops\")\n",
    "    print(\"End\")"
   ]
  },
  {
   "cell_type": "code",
   "execution_count": 38,
   "metadata": {},
   "outputs": [
    {
     "name": "stdout",
     "output_type": "stream",
     "text": [
      "The sum =  15\n",
      "None\n"
     ]
    }
   ],
   "source": [
    "print(chk())"
   ]
  },
  {
   "cell_type": "markdown",
   "metadata": {},
   "source": [
    "# Return mutiple statement and assign it to variables\n"
   ]
  },
  {
   "cell_type": "code",
   "execution_count": 55,
   "metadata": {},
   "outputs": [],
   "source": [
    "def argRet():\n",
    "    x= 10\n",
    "    y= 5\n",
    "    z=x+y\n",
    "    return x,y,z"
   ]
  },
  {
   "cell_type": "code",
   "execution_count": 56,
   "metadata": {},
   "outputs": [
    {
     "name": "stdout",
     "output_type": "stream",
     "text": [
      "10 5 15\n"
     ]
    }
   ],
   "source": [
    "a,b,c = argRet()\n",
    "print(a,b,c)"
   ]
  },
  {
   "cell_type": "markdown",
   "metadata": {},
   "source": [
    "# Function for multiple arguments"
   ]
  },
  {
   "cell_type": "code",
   "execution_count": 39,
   "metadata": {},
   "outputs": [],
   "source": [
    "def addarg(*a):\n",
    "    b = 0\n",
    "    L=[]\n",
    "    for i in range (len(a)):\n",
    "        b += a[i] \n",
    "        L.append(a[i]) \n",
    "    print(\"The sum : \",b)\n",
    "    return L"
   ]
  },
  {
   "cell_type": "code",
   "execution_count": 41,
   "metadata": {},
   "outputs": [
    {
     "name": "stdout",
     "output_type": "stream",
     "text": [
      "The sum :  47\n"
     ]
    },
    {
     "data": {
      "text/plain": [
       "[7, 5, 3, 8, 4, 20]"
      ]
     },
     "execution_count": 41,
     "metadata": {},
     "output_type": "execute_result"
    }
   ],
   "source": [
    "addarg(7,5,3,8,4,20)"
   ]
  },
  {
   "cell_type": "markdown",
   "metadata": {},
   "source": [
    "# Multiple Varibles with names"
   ]
  },
  {
   "cell_type": "code",
   "execution_count": 66,
   "metadata": {},
   "outputs": [],
   "source": [
    "def VarName(**a):\n",
    "    for i in a:\n",
    "        print(\"Variable name :\",i,\" And Value :\",a[i])"
   ]
  },
  {
   "cell_type": "code",
   "execution_count": 67,
   "metadata": {},
   "outputs": [
    {
     "name": "stdout",
     "output_type": "stream",
     "text": [
      "Variable name : z  And Value : 5\n",
      "Variable name : c  And Value : 7\n",
      "Variable name : s  And Value : sri\n",
      "Variable name : j  And Value : (2+3j)\n",
      "Variable name : r  And Value : [5, 2, 10, -15]\n"
     ]
    }
   ],
   "source": [
    "VarName(z=5,c=7,s=\"sri\",j=2+3j,r=[5,2,10,-15])"
   ]
  },
  {
   "cell_type": "markdown",
   "metadata": {},
   "source": [
    "# Default Function Variable"
   ]
  },
  {
   "cell_type": "code",
   "execution_count": 42,
   "metadata": {},
   "outputs": [],
   "source": [
    "def tt(s=0):\n",
    "    print(s)"
   ]
  },
  {
   "cell_type": "code",
   "execution_count": 43,
   "metadata": {},
   "outputs": [
    {
     "name": "stdout",
     "output_type": "stream",
     "text": [
      "0\n",
      "5\n"
     ]
    }
   ],
   "source": [
    "tt()\n",
    "tt(5)"
   ]
  },
  {
   "cell_type": "code",
   "execution_count": 274,
   "metadata": {},
   "outputs": [
    {
     "name": "stdout",
     "output_type": "stream",
     "text": [
      "[-10, 2, 3]\n"
     ]
    }
   ],
   "source": [
    "l=[1,2,3]\n",
    "l2=l\n",
    "l2[0]=-10\n",
    "print(l)"
   ]
  },
  {
   "cell_type": "code",
   "execution_count": 3,
   "metadata": {},
   "outputs": [],
   "source": [
    "def ts(L=[1,2]):\n",
    "    print(L)"
   ]
  },
  {
   "cell_type": "code",
   "execution_count": 4,
   "metadata": {},
   "outputs": [
    {
     "name": "stdout",
     "output_type": "stream",
     "text": [
      "[-5, 6, 7, 9]\n"
     ]
    }
   ],
   "source": [
    "a=[-5,6,7,9]\n",
    "ts(a)"
   ]
  },
  {
   "cell_type": "markdown",
   "metadata": {},
   "source": [
    "# Function Modules\n",
    "Importing functions from another file"
   ]
  },
  {
   "cell_type": "code",
   "execution_count": 54,
   "metadata": {},
   "outputs": [],
   "source": [
    "import sys\n",
    "sys.path.append('D:\\Data Analyst\\Programming\\Python\\Python Function Module test')"
   ]
  },
  {
   "cell_type": "code",
   "execution_count": 55,
   "metadata": {},
   "outputs": [],
   "source": [
    "import my_universal_functions as mfs #to import all function in the file\n",
    "#from my_universal_functions import addAllNumerics # ro import specific function from the file"
   ]
  },
  {
   "cell_type": "code",
   "execution_count": 59,
   "metadata": {},
   "outputs": [],
   "source": [
    "mfs.checkIfNotNumeric??# you can check  function structure\n",
    "b=mfs.addAllNumerics(1.2)"
   ]
  },
  {
   "cell_type": "code",
   "execution_count": 61,
   "metadata": {},
   "outputs": [
    {
     "name": "stdout",
     "output_type": "stream",
     "text": [
      "1.2\n"
     ]
    }
   ],
   "source": [
    "c=mfs.Mname\n",
    "print(b)"
   ]
  },
  {
   "cell_type": "markdown",
   "metadata": {},
   "source": [
    " # Sorting Algorithm using Functions\n",
    " "
   ]
  },
  {
   "cell_type": "code",
   "execution_count": 62,
   "metadata": {},
   "outputs": [],
   "source": [
    "def findMin(L):\n",
    "    m = L[0]\n",
    "    idx = 0\n",
    "    c = 0\n",
    "    for x in L:\n",
    "        if x<m:\n",
    "            m = x\n",
    "            idx = c\n",
    "        else:\n",
    "            pass\n",
    "        c +=1\n",
    "    return m,idx"
   ]
  },
  {
   "cell_type": "code",
   "execution_count": 63,
   "metadata": {},
   "outputs": [
    {
     "name": "stdout",
     "output_type": "stream",
     "text": [
      "-20 2\n"
     ]
    }
   ],
   "source": [
    "a,b=findMin([2,3,-20,0,9,-10,-15]) \n",
    "print(a,b)"
   ]
  },
  {
   "cell_type": "code",
   "execution_count": 43,
   "metadata": {},
   "outputs": [],
   "source": [
    "def findMin1(L,stidx):\n",
    "    m = L[stidx]\n",
    "    idx = stidx\n",
    "    for i in range (stidx,len(L)):\n",
    "        x=L[i]\n",
    "        print(L[i])\n",
    "        if x<m:\n",
    "            m = x\n",
    "            idx = i\n",
    "            print(\"index :\",i)\n",
    "        else:\n",
    "            pass\n",
    "    return m,idx"
   ]
  },
  {
   "cell_type": "code",
   "execution_count": 44,
   "metadata": {},
   "outputs": [
    {
     "name": "stdout",
     "output_type": "stream",
     "text": [
      "7\n",
      "9\n",
      "-10\n",
      "index : 5\n",
      "0\n"
     ]
    },
    {
     "data": {
      "text/plain": [
       "(-10, 5)"
      ]
     },
     "execution_count": 44,
     "metadata": {},
     "output_type": "execute_result"
    }
   ],
   "source": [
    "findMin1([5,6,4,7,9,-10,0],3)"
   ]
  },
  {
   "cell_type": "code",
   "execution_count": 45,
   "metadata": {},
   "outputs": [
    {
     "name": "stdout",
     "output_type": "stream",
     "text": [
      "length of array 7\n",
      "7\n",
      "9\n",
      "-10\n",
      "0\n",
      "False\n"
     ]
    }
   ],
   "source": [
    "l=[5,6,4,7,9,-10,0]\n",
    "print(\"length of array\",len(l))\n",
    "for x in range(3,len(l)): # range starts with first element in index l[0], so 1=l[1]=2 and 6=l[6]=7,3=l[3]=4\n",
    "    print(l[x])\n",
    "print(0<-10)"
   ]
  },
  {
   "cell_type": "markdown",
   "metadata": {},
   "source": [
    "# Swap Values Function"
   ]
  },
  {
   "cell_type": "code",
   "execution_count": 49,
   "metadata": {},
   "outputs": [],
   "source": [
    "def sawpValues(L,idx1,idx2):\n",
    "    tmp =L[idx1]\n",
    "    L[idx1] =L[idx2]\n",
    "    L[idx2] = tmp\n",
    "    return L"
   ]
  },
  {
   "cell_type": "code",
   "execution_count": 50,
   "metadata": {},
   "outputs": [
    {
     "name": "stdout",
     "output_type": "stream",
     "text": [
      "[2, 10, 4, 8, 9, 7, 3]\n"
     ]
    }
   ],
   "source": [
    "L=[2,3,4,8,9,7,10]\n",
    "L2=sawpValues(L,1,6)\n",
    "print(L2)"
   ]
  },
  {
   "cell_type": "code",
   "execution_count": 51,
   "metadata": {},
   "outputs": [],
   "source": [
    "def checkIfNotNumeric(*args):\n",
    "    for x in args:\n",
    "        if not(isinstance(x,(int,float))): \n",
    "            return False\n",
    "    return True"
   ]
  },
  {
   "cell_type": "code",
   "execution_count": 53,
   "metadata": {},
   "outputs": [
    {
     "data": {
      "text/plain": [
       "True"
      ]
     },
     "execution_count": 53,
     "metadata": {},
     "output_type": "execute_result"
    }
   ],
   "source": [
    "checkIfNotNumeric(2,3,4,5,-10)"
   ]
  },
  {
   "cell_type": "code",
   "execution_count": 121,
   "metadata": {},
   "outputs": [],
   "source": [
    "def sortList(L):\n",
    "    if checkIfNotNumeric(L):\n",
    "        print(\"Error: Invalid Input\")\n",
    "        return\n",
    "    else:\n",
    "        c = 0\n",
    "        for x in L:\n",
    "            print(x)\n",
    "            m,idx=findMin1(L,c)\n",
    "            L = sawpValues(L,c,idx)\n",
    "            c+=1\n",
    "    return L\n",
    "            "
   ]
  },
  {
   "cell_type": "code",
   "execution_count": 124,
   "metadata": {},
   "outputs": [
    {
     "name": "stdout",
     "output_type": "stream",
     "text": [
      "5\n",
      "6\n",
      "4\n",
      "7\n",
      "9\n",
      "7\n",
      "9\n",
      "[-10, 0, 4, 5, 6, 7, 9]\n"
     ]
    }
   ],
   "source": [
    "L2=sortList([5,6,4,7,9,-10,0])\n",
    "print(L2)"
   ]
  },
  {
   "cell_type": "markdown",
   "metadata": {},
   "source": [
    "# Strings"
   ]
  },
  {
   "cell_type": "code",
   "execution_count": 133,
   "metadata": {},
   "outputs": [
    {
     "name": "stdout",
     "output_type": "stream",
     "text": [
      "Python is a great language and in this course we gonna learn python data structures\n"
     ]
    }
   ],
   "source": [
    "s=\"Python is a great language\"\n",
    "t=\"in this course we gonna learn python data structures\"\n",
    "print(s+' and '+t)"
   ]
  },
  {
   "cell_type": "code",
   "execution_count": 50,
   "metadata": {},
   "outputs": [
    {
     "name": "stdout",
     "output_type": "stream",
     "text": [
      "The price of the book is : 12\n",
      "The price of the book is : 12\n"
     ]
    }
   ],
   "source": [
    "p = 12\n",
    "s = 'The price of the book is'\n",
    "v = s +\" : \"+str(p)\n",
    "print(v)\n",
    "print( s ,\":\",p)\n",
    "#print( s +\":\"+p) #when concating strings all vaiables shouls be strings"
   ]
  },
  {
   "cell_type": "markdown",
   "metadata": {},
   "source": [
    "# Multiline string"
   ]
  },
  {
   "cell_type": "code",
   "execution_count": 146,
   "metadata": {},
   "outputs": [
    {
     "name": "stdout",
     "output_type": "stream",
     "text": [
      "This is line 1\n",
      "This is line 2\n",
      "This is line 3\n",
      "\n",
      "This is line 1\n",
      "This is line 2\n",
      "This is line 3\n",
      "\n"
     ]
    }
   ],
   "source": [
    "a =\"\"\"This is line 1\n",
    "This is line 2\n",
    "This is line 3\n",
    "\"\"\"\n",
    "print(a)\n",
    "print(\"\"\"This is line 1\n",
    "This is line 2\n",
    "This is line 3\n",
    "\"\"\")"
   ]
  },
  {
   "cell_type": "markdown",
   "metadata": {},
   "source": [
    "# Substring\n"
   ]
  },
  {
   "cell_type": "code",
   "execution_count": 55,
   "metadata": {},
   "outputs": [
    {
     "name": "stdout",
     "output_type": "stream",
     "text": [
      "o\n",
      "o are yo\n",
      "e yo\n"
     ]
    }
   ],
   "source": [
    "a=\"who are you\"\n",
    "print(a[2])\n",
    "print(a[2:10])#strats from a[2] but wont print the last one a[10], only print from a[2] to a[9] \n",
    "print(a[-5:-1])#-1 refers last element and go in reverse direction like -2,-3"
   ]
  },
  {
   "cell_type": "code",
   "execution_count": 57,
   "metadata": {},
   "outputs": [
    {
     "data": {
      "text/plain": [
       "'uoy era ohw'"
      ]
     },
     "execution_count": 57,
     "metadata": {},
     "output_type": "execute_result"
    }
   ],
   "source": [
    "#a[start:End:step increment]\n",
    "a[0:7:1]#start from a[0] return values until a[7] and leave every 2nd element in the string a[start:end:increment]\n",
    "a[::-1]#reverse the string"
   ]
  },
  {
   "cell_type": "markdown",
   "metadata": {},
   "source": [
    "# String Functions"
   ]
  },
  {
   "cell_type": "code",
   "execution_count": 181,
   "metadata": {},
   "outputs": [
    {
     "name": "stdout",
     "output_type": "stream",
     "text": [
      "Hi how are you?..I am doing good\n",
      "HI HOW ARE YOU?..I AM DOING GOOD\n",
      "hi how are you?..i am doing good\n",
      "Hi h*w are y*u?..I am d*ing g**d\n"
     ]
    }
   ],
   "source": [
    "a=\"   Hi how are you?..I am doing good    \"\n",
    "b=a.strip()# Remove Blank spaces from start and end\n",
    "print(b)\n",
    "print(b.upper())\n",
    "print(b.lower())\n",
    "print(b.replace(\"o\",\"*\"))"
   ]
  },
  {
   "cell_type": "code",
   "execution_count": 133,
   "metadata": {},
   "outputs": [
    {
     "name": "stdout",
     "output_type": "stream",
     "text": [
      "['hi', ' how ', ' are ', ' you?..I am ', ' doing ', ' good']\n"
     ]
    },
    {
     "data": {
      "text/plain": [
       "[' are ', ' you?..I am ', ' doing ']"
      ]
     },
     "execution_count": 133,
     "metadata": {},
     "output_type": "execute_result"
    }
   ],
   "source": [
    "a=\"hi, how , are , you?..I am , doing , good\"\n",
    "L=a.split(\",\")#split a character into a list based on an occurence\n",
    "print(L)\n",
    "L[2:5]"
   ]
  },
  {
   "cell_type": "code",
   "execution_count": 199,
   "metadata": {},
   "outputs": [
    {
     "name": "stdout",
     "output_type": "stream",
     "text": [
      "Hi, how , are , you?..i am , doing , good\n"
     ]
    },
    {
     "data": {
      "text/plain": [
       "'hi, how , are , you?..I am , doing , good'"
      ]
     },
     "execution_count": 199,
     "metadata": {},
     "output_type": "execute_result"
    }
   ],
   "source": [
    "print(a.capitalize()) #capitalize first sentence like a sentence"
   ]
  },
  {
   "cell_type": "code",
   "execution_count": 69,
   "metadata": {},
   "outputs": [
    {
     "name": "stdout",
     "output_type": "stream",
     "text": [
      "True\n",
      "True\n",
      "False\n",
      "False\n"
     ]
    },
    {
     "data": {
      "text/plain": [
       "False"
      ]
     },
     "execution_count": 69,
     "metadata": {},
     "output_type": "execute_result"
    }
   ],
   "source": [
    "#print(\"hi\" in \"hi, how , are , you?..I am , doing , good\")\n",
    "z= \"hi, how , are , you?..I am , doing , good\"\n",
    "print(\"hi\" in z)\n",
    "\n",
    "print(\"see\" not in \"hi, how , are , you?..I am , doing , good\")\n",
    "print(\"se\" in z)\n",
    "print(\"hi\" not in z) \n",
    "\"abc\"<\"xyz\"\n",
    "\"abc\">\"xyz\"\n"
   ]
  },
  {
   "cell_type": "markdown",
   "metadata": {},
   "source": [
    "# To print \"\" with in the string and other functions"
   ]
  },
  {
   "cell_type": "code",
   "execution_count": 219,
   "metadata": {},
   "outputs": [
    {
     "name": "stdout",
     "output_type": "stream",
     "text": [
      "I am learning \"Python\" in online for free\n",
      "I am learning \"Python\" in online for free\n",
      "I am learning \n",
      "\"Python\" in online for free\n",
      "I am learning \t\"Python\"\t in online for free\n"
     ]
    }
   ],
   "source": [
    "print(\"I am learning \\\"Python\\\" in online for free\")\n",
    "print('I am learning \"Python\" in online for free')\n",
    "print('I am learning \\n\"Python\" in online for free')\n",
    "print('I am learning \\t\"Python\"\\t in online for free')"
   ]
  },
  {
   "cell_type": "code",
   "execution_count": 1,
   "metadata": {},
   "outputs": [
    {
     "name": "stdout",
     "output_type": "stream",
     "text": [
      "c:\n",
      "ame\\drive\n",
      "c:\\name\\drive\n"
     ]
    }
   ],
   "source": [
    "print(\"c:\\name\\drive\")# to avoid \\n error we can use raw string keyword in print function\n",
    "print(r\"c:\\name\\drive\")"
   ]
  },
  {
   "cell_type": "code",
   "execution_count": null,
   "metadata": {},
   "outputs": [],
   "source": []
  }
 ],
 "metadata": {
  "kernelspec": {
   "display_name": "Python 3",
   "language": "python",
   "name": "python3"
  },
  "language_info": {
   "codemirror_mode": {
    "name": "ipython",
    "version": 3
   },
   "file_extension": ".py",
   "mimetype": "text/x-python",
   "name": "python",
   "nbconvert_exporter": "python",
   "pygments_lexer": "ipython3",
   "version": "3.8.5"
  }
 },
 "nbformat": 4,
 "nbformat_minor": 4
}
